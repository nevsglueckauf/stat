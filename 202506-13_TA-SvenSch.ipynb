{
 "cells": [
  {
   "cell_type": "markdown",
   "id": "7fea7d88",
   "metadata": {},
   "source": [
    "## Aufgabe 2\n",
    "Berechne die Anzahl aller möglichen Permutationen für folgende Stichproben und berechne die\n",
    "gefragte Wahrscheinlichkeit. Gegeben sei ein Kartenspiel mit 32 Karten.\n",
    "\n",
    "1. Es werden 4 Karten ohne Zurücklegen gezogen und nebeneinander gelegt. Wie hoch ist die\n",
    "Wahrscheinlichkeit für folgendes Ergebnis: 1. Herz Ass, 2. Karo Ass, 3. Kreuz Ass, 4. Pik Ass\n",
    "(Reihenfolge beachten)\n",
    "\n",
    "2. Es werden 4 Karten ohne Zurücklegen gezogen und auf einen Stapel gesammelt. Wie hoch\n",
    "ist die Wahrscheinlichkeit für folgendes Ergebnis: Alle 4 Asse (Herz, Karo, Kreuz, Pik) werden\n",
    "gezogen\n",
    "\n",
    "3. Es wird eine Karte gezogen und notiert. Danach wird die Karte wieder in den Stapel gemischt.\n",
    "Das wird 4 mal wiederholt. Wie hoch ist die Wahrscheinlichkeit für folgendes Ergebnis: 1.\n",
    "Herz Ass, 2. Karo Ass, 3. Kreuz Ass, 4. Pik Ass (Reihenfolge beachten)\n",
    "\n",
    "4. Es wird eine Karte gezogen und notiert. Danach wird die Karte wieder in den Stapel gemischt.\n",
    "Das wird 4 mal wiederholt. Wie hoch ist die Wahrscheinlichkeit für folgendes Ergebnis: Alle 4\n",
    "Asse (Herz, Karo, Kreuz, Pik) werden gezogen"
   ]
  },
  {
   "cell_type": "code",
   "execution_count": null,
   "id": "21cc0592",
   "metadata": {
    "vscode": {
     "languageId": "plaintext"
    }
   },
   "outputs": [],
   "source": [
    "ad 1: \n",
    "\n",
    "Erster Zug: 3:32 bzw. 1:8\n",
    "Zweiter 3:31\n",
    "Dritter 2:30\n",
    "Vierter Zug: 1:29\n",
    "\n",
    "4​⋅313​⋅302​⋅291​=359601​=0,000026 , also 0,0026%\n",
    "\n",
    "(4/32) * (3/31) * (3/32) * (1/29) = 1/35960 = ​0,000026 = 0,0026%"
   ]
  }
 ],
 "metadata": {
  "language_info": {
   "name": "python"
  }
 },
 "nbformat": 4,
 "nbformat_minor": 5
}
