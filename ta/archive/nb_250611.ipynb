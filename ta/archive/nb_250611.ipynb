{
 "cells": [
  {
   "cell_type": "code",
   "execution_count": 3,
   "metadata": {},
   "outputs": [
    {
     "data": {
      "text/plain": [
       "0.4212962962962963"
      ]
     },
     "execution_count": 3,
     "metadata": {},
     "output_type": "execute_result"
    }
   ],
   "source": [
    "p = 1/6\n",
    "p\n",
    "1 - 125/216"
   ]
  },
  {
   "cell_type": "markdown",
   "metadata": {},
   "source": [
    "# Begriffe \n",
    "<dl>\n",
    " <dt>Relative Häufigkeit (Bezug: Data Science)</dt>\n",
    " <dd>En: <var>Relative frequency</var>\n",
    "\n",
    "Anteil eines Merkmals an der Gesamtzahl (%-uales Vorkommen)\n",
    "<blockquote cite=\"https://de.wikipedia\">\n",
    "„Die relative Häufigkeit ist eine Gliederungszahl und ein Maß der deskriptiven Statistik.“\n",
    "<p>-- WP</p>  \n",
    "</blockquote>\n",
    "</dd>\n",
    "\n",
    "<dt>Zufallsvariable </dt>\n",
    " <dd>\n",
    "\n",
    " -> besser: Zufallsgröße\n",
    "\n",
    "</dd>\n",
    "\n",
    "<dt>Wahrscheinlichkeit</dt>\n",
    " <dd> \n",
    " {1,2,3,4,5,6}\n",
    " 6 Würfel \n",
    " \n",
    " Wahrscheinlichkeit: $\\dfrac{1}{6} \\longrightarrow$ \n",
    " - $\\dfrac{1}{Grundgesamtheit}$\n",
    " \n",
    "\n",
    " Drei Würfe, um eine Sechs zu würfeln:\n",
    "\n",
    " $ p = \\dfrac{1}{6} + \\dfrac{5}{6} \\times \\dfrac{1}{6} + \\dfrac{5}{6} \\times \\dfrac{5}{6} \\times \\dfrac{1}{6}$\n",
    "\n",
    " $ p = \\dfrac{1}{6} + \\dfrac{5}{36} + \\dfrac{25}{216} $\n",
    "\n",
    " $ p \\approx 42\\%$\n",
    "\n",
    "„Gegenwahrscheinlichkeit“\n",
    "\n",
    " $ p = \\dfrac{5}{6} \\times \\dfrac{5}{6} \\times \\dfrac{5}{6} $\n",
    " $ p = 0.5787037037037037 \\approx 58 \\%$\n",
    " \n",
    "$  58 \\% + 42\\% = 1 $\n",
    "\n",
    " \n",
    " </dd>\n",
    "<dt>Wahrscheinlichkeitsdichte</dt>\n",
    " <dd>\n",
    "    - Foo\n",
    " </dd>\n",
    "\n",
    "<dt>Erwartungswert / Mittelwert</dt>\n",
    " <dd>  \n",
    " - BAR:\n",
    " \n",
    " $\\mu =  \\dfrac{1+2+3+4+5+6}{6}$\n",
    " </dd>\n",
    "\n",
    "<dt>Varianz</dt>\n",
    " <dd> - baz</dd>\n",
    "\n",
    " <dt>Standardabweichung</dt>\n",
    " <dd> - murX</dd>\n",
    "\n",
    "\n",
    "\n",
    "\n",
    "</dl>"
   ]
  },
  {
   "cell_type": "markdown",
   "metadata": {},
   "source": []
  }
 ],
 "metadata": {
  "kernelspec": {
   "display_name": ".venv",
   "language": "python",
   "name": "python3"
  },
  "language_info": {
   "codemirror_mode": {
    "name": "ipython",
    "version": 3
   },
   "file_extension": ".py",
   "mimetype": "text/x-python",
   "name": "python",
   "nbconvert_exporter": "python",
   "pygments_lexer": "ipython3",
   "version": "3.13.2"
  }
 },
 "nbformat": 4,
 "nbformat_minor": 2
}
